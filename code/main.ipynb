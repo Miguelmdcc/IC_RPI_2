{
 "cells": [
  {
   "cell_type": "markdown",
   "metadata": {},
   "source": [
    "# Iniciação Científica - Rastreador GPS Personalizável Inteligente"
   ]
  },
  {
   "cell_type": "markdown",
   "metadata": {},
   "source": [
    "## Aluno: Miguel Mendes Daia Cicci\n",
    "## Orientador: Frederico Renato Gomes"
   ]
  },
  {
   "cell_type": "markdown",
   "metadata": {},
   "source": [
    "# Dados de localização"
   ]
  },
  {
   "cell_type": "markdown",
   "metadata": {},
   "source": [
    "## Google Maps"
   ]
  },
  {
   "cell_type": "code",
   "execution_count": 1,
   "metadata": {},
   "outputs": [],
   "source": [
    "import pandas as pd\n",
    "import numpy as np\n",
    "import matplotlib.pyplot as plt\n",
    "from sklearn.cluster import DBSCAN\n",
    "from sklearn.preprocessing import StandardScaler"
   ]
  },
  {
   "cell_type": "code",
   "execution_count": 2,
   "metadata": {},
   "outputs": [
    {
     "data": {
      "text/html": [
       "<div>\n",
       "<style scoped>\n",
       "    .dataframe tbody tr th:only-of-type {\n",
       "        vertical-align: middle;\n",
       "    }\n",
       "\n",
       "    .dataframe tbody tr th {\n",
       "        vertical-align: top;\n",
       "    }\n",
       "\n",
       "    .dataframe thead th {\n",
       "        text-align: right;\n",
       "    }\n",
       "</style>\n",
       "<table border=\"1\" class=\"dataframe\">\n",
       "  <thead>\n",
       "    <tr style=\"text-align: right;\">\n",
       "      <th></th>\n",
       "      <th>latitude</th>\n",
       "      <th>longitude</th>\n",
       "    </tr>\n",
       "  </thead>\n",
       "  <tbody>\n",
       "    <tr>\n",
       "      <th>0</th>\n",
       "      <td>-19.768875</td>\n",
       "      <td>-47.945313</td>\n",
       "    </tr>\n",
       "    <tr>\n",
       "      <th>1</th>\n",
       "      <td>-19.769348</td>\n",
       "      <td>-47.945514</td>\n",
       "    </tr>\n",
       "    <tr>\n",
       "      <th>2</th>\n",
       "      <td>-19.769915</td>\n",
       "      <td>-47.945815</td>\n",
       "    </tr>\n",
       "    <tr>\n",
       "      <th>3</th>\n",
       "      <td>-19.770246</td>\n",
       "      <td>-47.945815</td>\n",
       "    </tr>\n",
       "    <tr>\n",
       "      <th>4</th>\n",
       "      <td>-19.770387</td>\n",
       "      <td>-47.946518</td>\n",
       "    </tr>\n",
       "    <tr>\n",
       "      <th>...</th>\n",
       "      <td>...</td>\n",
       "      <td>...</td>\n",
       "    </tr>\n",
       "    <tr>\n",
       "      <th>289</th>\n",
       "      <td>-19.712019</td>\n",
       "      <td>-47.961594</td>\n",
       "    </tr>\n",
       "    <tr>\n",
       "      <th>290</th>\n",
       "      <td>-19.711504</td>\n",
       "      <td>-47.961497</td>\n",
       "    </tr>\n",
       "    <tr>\n",
       "      <th>291</th>\n",
       "      <td>-19.711161</td>\n",
       "      <td>-47.961701</td>\n",
       "    </tr>\n",
       "    <tr>\n",
       "      <th>292</th>\n",
       "      <td>-19.710979</td>\n",
       "      <td>-47.961862</td>\n",
       "    </tr>\n",
       "    <tr>\n",
       "      <th>293</th>\n",
       "      <td>-19.710817</td>\n",
       "      <td>-47.962023</td>\n",
       "    </tr>\n",
       "  </tbody>\n",
       "</table>\n",
       "<p>294 rows × 2 columns</p>\n",
       "</div>"
      ],
      "text/plain": [
       "      latitude  longitude\n",
       "0   -19.768875 -47.945313\n",
       "1   -19.769348 -47.945514\n",
       "2   -19.769915 -47.945815\n",
       "3   -19.770246 -47.945815\n",
       "4   -19.770387 -47.946518\n",
       "..         ...        ...\n",
       "289 -19.712019 -47.961594\n",
       "290 -19.711504 -47.961497\n",
       "291 -19.711161 -47.961701\n",
       "292 -19.710979 -47.961862\n",
       "293 -19.710817 -47.962023\n",
       "\n",
       "[294 rows x 2 columns]"
      ]
     },
     "execution_count": 2,
     "metadata": {},
     "output_type": "execute_result"
    }
   ],
   "source": [
    "rotas_path = 'C:/workspace/IC/IC_2/data/rotas.xlsx'\n",
    "rotas = pd.read_excel(rotas_path)\n",
    "rotas"
   ]
  },
  {
   "cell_type": "code",
   "execution_count": null,
   "metadata": {},
   "outputs": [],
   "source": [
    "rotas.plot()"
   ]
  },
  {
   "cell_type": "code",
   "execution_count": null,
   "metadata": {},
   "outputs": [],
   "source": [
    "routes_normalized = scaler.fit_transform(routes)\n",
    "rotas = np.array(routes)\n",
    "\n",
    "# Visualizar os dados soltos\n",
    "plt.xlabel('latitude')\n",
    "plt.ylabel('longitude')\n",
    "plt.title('Gráfico de rotas Google maps')\n",
    "plt.scatter(rotas[:,0],rotas[:,1],color = 'blue')\n",
    "plt.show()"
   ]
  },
  {
   "cell_type": "code",
   "execution_count": null,
   "metadata": {},
   "outputs": [],
   "source": [
    "# Aplicar K-Means\n",
    "kmeansroutes = KMeans(n_clusters=4)\n",
    "kmeansroutes.fit(routes_normalized)\n",
    "labels_routes = kmeansroutes.labels_\n",
    "centroides_routes = kmeansroutes.cluster_centers_\n",
    "\n",
    "\n",
    "# Visualizar os clusters k-means\n",
    "plt.xlabel('latitude')\n",
    "plt.ylabel('longitude')\n",
    "plt.title('Gráfico de clusters Algoritmo k-means \\n Quantidade de Clusters: 4')\n",
    "plt.scatter(routes_normalized[:,0],routes_normalized[:,1],c = labels_routes)\n",
    "plt.show()\n",
    "\n",
    "# Visualizar os clusters k-means com os centroides\n",
    "plt.xlabel('latitude')\n",
    "plt.ylabel('longitude')\n",
    "plt.title('Gráfico de clusters Algoritmo k-means \\n Quantidade de Clusters: 4')\n",
    "plt.scatter(routes_normalized[:,0],routes_normalized[:,1],c = labels_routes)\n",
    "plt.scatter(centroides_routes[:,0],centroides_routes[:,1],color='red')\n",
    "# Para cada cluster, desenhar a circunferência\n",
    "for i, centroide in enumerate(centroides_routes):\n",
    "    # Selecionar pontos do cluster atual\n",
    "    pontos_cluster = routes_normalized[labels_routes == i]\n",
    "    \n",
    "    # Calcular o raio como a distância máxima do centroide aos pontos do cluster\n",
    "    distancias = np.linalg.norm(pontos_cluster - centroide, axis=1)\n",
    "    raio = distancias.max()\n",
    "    \n",
    "    # Adicionar a circunferência\n",
    "    circunferencia = plt.Circle(centroide, raio, color='blue', fill=False, linestyle='--', label=f'Circunferência Cluster {i}')\n",
    "    plt.gca().add_artist(circunferencia)\n",
    "plt.show()\n",
    "\n",
    "# Aplicar DBSCAN(Density-Based Spatial Clustering of Applications with Noise)\n",
    "raio = 0.2 #raio das distancias de um ponto até outro\n",
    "minimo_pontos = 5 #quantidade de pontos para classificar um cluster\n",
    "dbscan_routes = DBSCAN(eps = raio,min_samples=minimo_pontos)\n",
    "dbscan_fit_routes = dbscan_routes.fit(routes_normalized)\n",
    "rotulos_routes = dbscan_fit_routes.labels_ #Array constituido por -1 significa que ele não conseguiu identificar os klusters\n",
    " \n",
    "# Visualizar os clusters DBSCAN\n",
    "plt.xlabel('latitude')\n",
    "plt.ylabel('longitude')\n",
    "plt.title('Gráfico de clusters DBSCAN \\n Raio das distancias de um ponto até outro: 0.2 \\n Quantidade de pontos para classificar um cluster: 5')\n",
    "plt.scatter(routes_normalized[:,0],routes_normalized[:,1],c = rotulos_routes)\n",
    "ruidos = []\n",
    "for index, labels in enumerate(rotulos_routes):\n",
    "    if labels == -1:\n",
    "        ruidos.append(index)\n",
    "        plt.scatter(routes_normalized[index,:][0],routes_normalized[index,:][1],marker='x',color='red',s=100)\n",
    "plt.show()"
   ]
  }
 ],
 "metadata": {
  "kernelspec": {
   "display_name": "spyder-env",
   "language": "python",
   "name": "python3"
  },
  "language_info": {
   "codemirror_mode": {
    "name": "ipython",
    "version": 3
   },
   "file_extension": ".py",
   "mimetype": "text/x-python",
   "name": "python",
   "nbconvert_exporter": "python",
   "pygments_lexer": "ipython3",
   "version": "3.10.13"
  }
 },
 "nbformat": 4,
 "nbformat_minor": 2
}
