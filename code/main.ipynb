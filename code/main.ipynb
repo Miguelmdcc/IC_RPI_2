{
 "cells": [
  {
   "cell_type": "markdown",
   "metadata": {},
   "source": [
    "# Iniciação Científica - Rastreador GPS Personalizável Inteligente"
   ]
  },
  {
   "cell_type": "markdown",
   "metadata": {},
   "source": [
    "## Aluno: Miguel Mendes Daia Cicci\n",
    "## Orientador: Frederico Renato Gomes"
   ]
  },
  {
   "cell_type": "markdown",
   "metadata": {},
   "source": [
    "# Dados de localização"
   ]
  },
  {
   "cell_type": "markdown",
   "metadata": {},
   "source": [
    "## Google Maps"
   ]
  },
  {
   "cell_type": "code",
   "execution_count": 1,
   "metadata": {},
   "outputs": [],
   "source": [
    "import pandas as pd\n",
    "import numpy as np\n",
    "import matplotlib.pyplot as plt\n",
    "from sklearn.cluster import DBSCAN\n",
    "from sklearn.preprocessing import StandardScaler"
   ]
  },
  {
   "cell_type": "code",
   "execution_count": null,
   "metadata": {},
   "outputs": [],
   "source": [
    "rotas_path = 'C:/workspace/IC/IC_2/data/rotas.xlsx'\n",
    "rotas = pd.read_excel(rotas_path)\n",
    "rotas"
   ]
  },
  {
   "cell_type": "code",
   "execution_count": null,
   "metadata": {},
   "outputs": [],
   "source": [
    "rotas.plot(x='latitude', y='longitude', kind='scatter')"
   ]
  },
  {
   "cell_type": "markdown",
   "metadata": {},
   "source": [
    "Padronizar dados X Normalizar dados"
   ]
  },
  {
   "cell_type": "code",
   "execution_count": 4,
   "metadata": {},
   "outputs": [],
   "source": [
    "scaler = StandardScaler()"
   ]
  },
  {
   "cell_type": "code",
   "execution_count": null,
   "metadata": {},
   "outputs": [],
   "source": [
    "rotas_p = scaler.fit_transform(rotas)\n",
    "rotas_p = pd.DataFrame(rotas_p,columns=['latitude','longitude'])\n",
    "rotas_p"
   ]
  },
  {
   "cell_type": "code",
   "execution_count": null,
   "metadata": {},
   "outputs": [],
   "source": [
    "rotas_p.plot(x='latitude', y='longitude', kind='scatter')"
   ]
  },
  {
   "cell_type": "markdown",
   "metadata": {},
   "source": [
    "# Aplicar algoritmo de clusterização DBSCAN"
   ]
  },
  {
   "cell_type": "markdown",
   "metadata": {},
   "source": [
    "## (Density-Based Spatial Clustering of Applications with Noise)"
   ]
  },
  {
   "cell_type": "markdown",
   "metadata": {},
   "source": [
    "Parametros do DBSCAN"
   ]
  },
  {
   "cell_type": "code",
   "execution_count": 7,
   "metadata": {},
   "outputs": [],
   "source": [
    "raio = 0.13 #raio das distancias de um ponto até outro\n",
    "minimo_pontos = 2 #quantidade de pontos para classificar um cluster"
   ]
  },
  {
   "cell_type": "code",
   "execution_count": 8,
   "metadata": {},
   "outputs": [],
   "source": [
    "dbscan = DBSCAN(eps=raio,min_samples=minimo_pontos)\n",
    "dbscan_fit = dbscan.fit(rotas_p)"
   ]
  },
  {
   "cell_type": "code",
   "execution_count": null,
   "metadata": {},
   "outputs": [],
   "source": [
    "rotulos_padroes = dbscan_fit.labels_ #Array constituido por -1 significa que ele não conseguiu identificar os klusters\n",
    "rotulos_padroes\n",
    "rotas_p['rotulos'] = rotulos_padroes\n",
    "rotas_p"
   ]
  },
  {
   "cell_type": "code",
   "execution_count": null,
   "metadata": {},
   "outputs": [],
   "source": [
    "ax = rotas_p.plot(x='latitude',y='longitude'\n",
    "            ,xlabel='Latitude',ylabel='Longitude',\n",
    "            kind='scatter',c='rotulos',cmap='viridis')\n",
    "\n",
    "rotas_negativas = rotas_p[rotas_p['rotulos']==-1]\n",
    "rotas_negativas.plot(\n",
    "    x='latitude',\n",
    "    y='longitude',\n",
    "    kind='scatter',\n",
    "    color='red',\n",
    "    marker='x',\n",
    "    ax=ax,  # Plota no mesmo gráfico\n",
    "    label='c = -1'\n",
    ")\n",
    "\n",
    "plt.show"
   ]
  },
  {
   "cell_type": "markdown",
   "metadata": {},
   "source": [
    "# Novos dados"
   ]
  },
  {
   "cell_type": "code",
   "execution_count": 11,
   "metadata": {},
   "outputs": [],
   "source": [
    "dados_novos = [(-19.725129984827152, -47.95321195366353),\n",
    "(-19.724847204297333, -47.95311539414036),\n",
    "(-19.724665416549634, -47.95294373276583),\n",
    "(-19.724473529258265, -47.95283644440675),\n",
    "(-19.7242917410855, -47.95257895234496),\n",
    "(-19.72412005206577, -47.952396562134524),\n",
    "(-19.72409985334546, -47.95227854493953),\n",
    "(-19.723928164119577, -47.95219271425227),\n",
    "(-19.723756474709248, -47.95219271425227),\n",
    "(-19.723665580240862, -47.952224900759994),\n",
    "(-19.723524188742868, -47.95228927377545),\n",
    "(-19.723392896525567, -47.952396562134524),\n",
    "(-19.7232313059562, -47.95237510446271),\n",
    "(-19.723241405371578, -47.95246093514997),\n",
    "(-19.723261604200406, -47.95260041001678),\n",
    "(-19.72319090828834, -47.95267551186814),\n",
    "(-19.72308991407398, -47.95267551186814),\n",
    "(-19.7229990192265, -47.95278280022721),\n",
    "(-19.7229384226328, -47.95301883461719),\n",
    "(-19.72290812432733, -47.95310466530446),\n",
    "(-19.722837428258895, -47.95321195366353),\n",
    "(-19.72267583712791, -47.953405072709884)]\n",
    "\n",
    "# dados_novos = [(-19.72267583712791, -47.953405072709884)]\n",
    "\n",
    "dados_novos = pd.DataFrame(data=dados_novos,columns=['latitude','longitude'])\n",
    "dados_novos['rotulos'] = 1"
   ]
  },
  {
   "cell_type": "code",
   "execution_count": null,
   "metadata": {},
   "outputs": [],
   "source": [
    "dados_novos.plot(x='latitude',y='longitude',kind='scatter')"
   ]
  },
  {
   "cell_type": "code",
   "execution_count": 13,
   "metadata": {},
   "outputs": [],
   "source": [
    "rotas['rotulos'] = 2\n",
    "dados_juntos = pd.concat([rotas, dados_novos])"
   ]
  },
  {
   "cell_type": "code",
   "execution_count": null,
   "metadata": {},
   "outputs": [],
   "source": [
    "dados_juntos.plot(x='latitude',y='longitude',kind='scatter',c='rotulos',cmap='viridis')"
   ]
  },
  {
   "cell_type": "code",
   "execution_count": null,
   "metadata": {},
   "outputs": [],
   "source": [
    "dados_juntos_p = scaler.fit_transform(dados_juntos)\n",
    "dados_juntos_p = pd.DataFrame(data=dados_juntos_p,columns=['latitude','longitude','rotulos'])\n",
    "dados_juntos_p.plot(x='latitude',y='longitude',kind='scatter',c='rotulos',cmap='viridis')"
   ]
  },
  {
   "cell_type": "code",
   "execution_count": null,
   "metadata": {},
   "outputs": [],
   "source": [
    "def predict(lat,long):\n",
    "    position = pd.DataFrame(data=rotas,columns=['latitude','longitude'])\n",
    "    dados_j = pd.concat([rotas,position])\n",
    "    dados_jp = scaler.fit_transform(dados_j)\n",
    "    rotulosjp = dbscan.fit_predict(dados_jp)\n",
    "    if np.isin(-1,rotulosjp):\n",
    "        print('Ponto anomalo: '+ str(lat)+str(long))\n",
    "    # else:\n",
    "    #     print('Ponto padrão: '+ str(lat)+','+str(long))\n",
    "    #normalizar dados\n",
    "    #juntar dados com o dataset padrão\n",
    "    #agrupar com DBSCAN\n",
    "    #verificar rotulos = -1\n",
    "    #retirar dados do dataset padrão\n",
    "    #adicionar dados rotulados a novo dataset\n",
    "\n",
    "rotas.drop(columns='rotulos',inplace=True)\n",
    "\n",
    "for lat, long in zip(dados_juntos_p['latitude'], dados_juntos_p['longitude']):\n",
    "    predict(lat,long)\n"
   ]
  }
 ],
 "metadata": {
  "kernelspec": {
   "display_name": "spyder-env",
   "language": "python",
   "name": "python3"
  },
  "language_info": {
   "codemirror_mode": {
    "name": "ipython",
    "version": 3
   },
   "file_extension": ".py",
   "mimetype": "text/x-python",
   "name": "python",
   "nbconvert_exporter": "python",
   "pygments_lexer": "ipython3",
   "version": "3.10.13"
  }
 },
 "nbformat": 4,
 "nbformat_minor": 2
}
