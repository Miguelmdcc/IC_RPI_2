{
 "cells": [
  {
   "cell_type": "markdown",
   "metadata": {},
   "source": [
    "# Iniciação Científica - Rastreador GPS Personalizável Inteligente"
   ]
  },
  {
   "cell_type": "markdown",
   "metadata": {},
   "source": [
    "## Aluno: Miguel Mendes Daia Cicci\n",
    "## Orientador: Frederico Renato Gomes"
   ]
  },
  {
   "cell_type": "markdown",
   "metadata": {},
   "source": [
    "# Coisas a fazer\n",
    "- tratar dados outliers na coleta padrão"
   ]
  },
  {
   "cell_type": "markdown",
   "metadata": {},
   "source": [
    "# Dados de localização"
   ]
  },
  {
   "cell_type": "markdown",
   "metadata": {},
   "source": [
    "## Google Maps"
   ]
  },
  {
   "cell_type": "code",
   "execution_count": 62,
   "metadata": {},
   "outputs": [],
   "source": [
    "import pandas as pd\n",
    "import numpy as np\n",
    "import matplotlib.pyplot as plt\n",
    "from sklearn.cluster import DBSCAN\n",
    "from sklearn.preprocessing import StandardScaler"
   ]
  },
  {
   "cell_type": "code",
   "execution_count": 63,
   "metadata": {},
   "outputs": [
    {
     "data": {
      "text/html": [
       "<div>\n",
       "<style scoped>\n",
       "    .dataframe tbody tr th:only-of-type {\n",
       "        vertical-align: middle;\n",
       "    }\n",
       "\n",
       "    .dataframe tbody tr th {\n",
       "        vertical-align: top;\n",
       "    }\n",
       "\n",
       "    .dataframe thead th {\n",
       "        text-align: right;\n",
       "    }\n",
       "</style>\n",
       "<table border=\"1\" class=\"dataframe\">\n",
       "  <thead>\n",
       "    <tr style=\"text-align: right;\">\n",
       "      <th></th>\n",
       "      <th>latitude</th>\n",
       "      <th>longitude</th>\n",
       "    </tr>\n",
       "  </thead>\n",
       "  <tbody>\n",
       "    <tr>\n",
       "      <th>0</th>\n",
       "      <td>-19.768875</td>\n",
       "      <td>-47.945313</td>\n",
       "    </tr>\n",
       "    <tr>\n",
       "      <th>1</th>\n",
       "      <td>-19.769348</td>\n",
       "      <td>-47.945514</td>\n",
       "    </tr>\n",
       "    <tr>\n",
       "      <th>2</th>\n",
       "      <td>-19.769915</td>\n",
       "      <td>-47.945815</td>\n",
       "    </tr>\n",
       "    <tr>\n",
       "      <th>3</th>\n",
       "      <td>-19.770246</td>\n",
       "      <td>-47.945815</td>\n",
       "    </tr>\n",
       "    <tr>\n",
       "      <th>4</th>\n",
       "      <td>-19.770387</td>\n",
       "      <td>-47.946518</td>\n",
       "    </tr>\n",
       "    <tr>\n",
       "      <th>...</th>\n",
       "      <td>...</td>\n",
       "      <td>...</td>\n",
       "    </tr>\n",
       "    <tr>\n",
       "      <th>289</th>\n",
       "      <td>-19.712019</td>\n",
       "      <td>-47.961594</td>\n",
       "    </tr>\n",
       "    <tr>\n",
       "      <th>290</th>\n",
       "      <td>-19.711504</td>\n",
       "      <td>-47.961497</td>\n",
       "    </tr>\n",
       "    <tr>\n",
       "      <th>291</th>\n",
       "      <td>-19.711161</td>\n",
       "      <td>-47.961701</td>\n",
       "    </tr>\n",
       "    <tr>\n",
       "      <th>292</th>\n",
       "      <td>-19.710979</td>\n",
       "      <td>-47.961862</td>\n",
       "    </tr>\n",
       "    <tr>\n",
       "      <th>293</th>\n",
       "      <td>-19.710817</td>\n",
       "      <td>-47.962023</td>\n",
       "    </tr>\n",
       "  </tbody>\n",
       "</table>\n",
       "<p>294 rows × 2 columns</p>\n",
       "</div>"
      ],
      "text/plain": [
       "      latitude  longitude\n",
       "0   -19.768875 -47.945313\n",
       "1   -19.769348 -47.945514\n",
       "2   -19.769915 -47.945815\n",
       "3   -19.770246 -47.945815\n",
       "4   -19.770387 -47.946518\n",
       "..         ...        ...\n",
       "289 -19.712019 -47.961594\n",
       "290 -19.711504 -47.961497\n",
       "291 -19.711161 -47.961701\n",
       "292 -19.710979 -47.961862\n",
       "293 -19.710817 -47.962023\n",
       "\n",
       "[294 rows x 2 columns]"
      ]
     },
     "execution_count": 63,
     "metadata": {},
     "output_type": "execute_result"
    }
   ],
   "source": [
    "rotas_path = 'C:/workspace/IC/IC_2/data/rotas.xlsx'\n",
    "rotas = pd.read_excel(rotas_path)\n",
    "rotas"
   ]
  },
  {
   "cell_type": "code",
   "execution_count": 64,
   "metadata": {},
   "outputs": [
    {
     "data": {
      "text/plain": [
       "<Axes: xlabel='latitude', ylabel='longitude'>"
      ]
     },
     "execution_count": 64,
     "metadata": {},
     "output_type": "execute_result"
    },
    {
     "data": {
      "image/png": "[encoded data removed]",
      "text/plain": [
       "<Figure size 640x480 with 1 Axes>"
      ]
     },
     "metadata": {},
     "output_type": "display_data"
    }
   ],
   "source": [
    "rotas.plot(x='latitude', y='longitude', kind='scatter')"
   ]
  },
  {
   "cell_type": "markdown",
   "metadata": {},
   "source": [
    "# Padronizar dados X Normalizar dados"
   ]
  },
  {
   "cell_type": "code",
   "execution_count": 65,
   "metadata": {},
   "outputs": [],
   "source": [
    "scaler = StandardScaler()"
   ]
  },
  {
   "cell_type": "code",
   "execution_count": 66,
   "metadata": {},
   "outputs": [
    {
     "data": {
      "text/html": [
       "<div>\n",
       "<style scoped>\n",
       "    .dataframe tbody tr th:only-of-type {\n",
       "        vertical-align: middle;\n",
       "    }\n",
       "\n",
       "    .dataframe tbody tr th {\n",
       "        vertical-align: top;\n",
       "    }\n",
       "\n",
       "    .dataframe thead th {\n",
       "        text-align: right;\n",
       "    }\n",
       "</style>\n",
       "<table border=\"1\" class=\"dataframe\">\n",
       "  <thead>\n",
       "    <tr style=\"text-align: right;\">\n",
       "      <th></th>\n",
       "      <th>latitude</th>\n",
       "      <th>longitude</th>\n",
       "    </tr>\n",
       "  </thead>\n",
       "  <tbody>\n",
       "    <tr>\n",
       "      <th>0</th>\n",
       "      <td>-1.737784</td>\n",
       "      <td>0.001388</td>\n",
       "    </tr>\n",
       "    <tr>\n",
       "      <th>1</th>\n",
       "      <td>-1.767918</td>\n",
       "      <td>-0.013498</td>\n",
       "    </tr>\n",
       "    <tr>\n",
       "      <th>2</th>\n",
       "      <td>-1.804079</td>\n",
       "      <td>-0.035828</td>\n",
       "    </tr>\n",
       "    <tr>\n",
       "      <th>3</th>\n",
       "      <td>-1.825172</td>\n",
       "      <td>-0.035828</td>\n",
       "    </tr>\n",
       "    <tr>\n",
       "      <th>4</th>\n",
       "      <td>-1.834212</td>\n",
       "      <td>-0.087930</td>\n",
       "    </tr>\n",
       "    <tr>\n",
       "      <th>...</th>\n",
       "      <td>...</td>\n",
       "      <td>...</td>\n",
       "    </tr>\n",
       "    <tr>\n",
       "      <th>289</th>\n",
       "      <td>1.887390</td>\n",
       "      <td>-1.205104</td>\n",
       "    </tr>\n",
       "    <tr>\n",
       "      <th>290</th>\n",
       "      <td>1.920233</td>\n",
       "      <td>-1.197949</td>\n",
       "    </tr>\n",
       "    <tr>\n",
       "      <th>291</th>\n",
       "      <td>1.942129</td>\n",
       "      <td>-1.213055</td>\n",
       "    </tr>\n",
       "    <tr>\n",
       "      <th>292</th>\n",
       "      <td>1.953721</td>\n",
       "      <td>-1.224981</td>\n",
       "    </tr>\n",
       "    <tr>\n",
       "      <th>293</th>\n",
       "      <td>1.964025</td>\n",
       "      <td>-1.236907</td>\n",
       "    </tr>\n",
       "  </tbody>\n",
       "</table>\n",
       "<p>294 rows × 2 columns</p>\n",
       "</div>"
      ],
      "text/plain": [
       "     latitude  longitude\n",
       "0   -1.737784   0.001388\n",
       "1   -1.767918  -0.013498\n",
       "2   -1.804079  -0.035828\n",
       "3   -1.825172  -0.035828\n",
       "4   -1.834212  -0.087930\n",
       "..        ...        ...\n",
       "289  1.887390  -1.205104\n",
       "290  1.920233  -1.197949\n",
       "291  1.942129  -1.213055\n",
       "292  1.953721  -1.224981\n",
       "293  1.964025  -1.236907\n",
       "\n",
       "[294 rows x 2 columns]"
      ]
     },
     "execution_count": 66,
     "metadata": {},
     "output_type": "execute_result"
    }
   ],
   "source": [
    "rotas_p = scaler.fit_transform(rotas)\n",
    "rotas_p = pd.DataFrame(rotas_p,columns=['latitude','longitude'])\n",
    "rotas_p"
   ]
  },
  {
   "cell_type": "code",
   "execution_count": 67,
   "metadata": {},
   "outputs": [
    {
     "data": {
      "text/plain": [
       "<Axes: xlabel='latitude', ylabel='longitude'>"
      ]
     },
     "execution_count": 67,
     "metadata": {},
     "output_type": "execute_result"
    },
    {
     "data": {
      "image/png": "[encoded data removed]",
      "text/plain": [
       "<Figure size 640x480 with 1 Axes>"
      ]
     },
     "metadata": {},
     "output_type": "display_data"
    }
   ],
   "source": [
    "rotas_p.plot(x='latitude', y='longitude', kind='scatter')"
   ]
  },
  {
   "cell_type": "markdown",
   "metadata": {},
   "source": [
    "# Aplicar algoritmo de clusterização DBSCAN"
   ]
  },
  {
   "cell_type": "markdown",
   "metadata": {},
   "source": [
    "## (Density-Based Spatial Clustering of Applications with Noise)"
   ]
  },
  {
   "cell_type": "markdown",
   "metadata": {},
   "source": [
    "Parametros do DBSCAN"
   ]
  },
  {
   "cell_type": "code",
   "execution_count": 68,
   "metadata": {},
   "outputs": [],
   "source": [
    "raio = 0.1 #raio das distancias de um ponto até outro\n",
    "minimo_pontos = 2 #quantidade de pontos para classificar um cluster"
   ]
  },
  {
   "cell_type": "code",
   "execution_count": 69,
   "metadata": {},
   "outputs": [],
   "source": [
    "dbscan = DBSCAN(eps=raio,min_samples=minimo_pontos)\n",
    "dbscan_fit = dbscan.fit(rotas_p)"
   ]
  },
  {
   "cell_type": "code",
   "execution_count": 70,
   "metadata": {},
   "outputs": [
    {
     "data": {
      "text/html": [
       "<div>\n",
       "<style scoped>\n",
       "    .dataframe tbody tr th:only-of-type {\n",
       "        vertical-align: middle;\n",
       "    }\n",
       "\n",
       "    .dataframe tbody tr th {\n",
       "        vertical-align: top;\n",
       "    }\n",
       "\n",
       "    .dataframe thead th {\n",
       "        text-align: right;\n",
       "    }\n",
       "</style>\n",
       "<table border=\"1\" class=\"dataframe\">\n",
       "  <thead>\n",
       "    <tr style=\"text-align: right;\">\n",
       "      <th></th>\n",
       "      <th>latitude</th>\n",
       "      <th>longitude</th>\n",
       "      <th>rotulos</th>\n",
       "    </tr>\n",
       "  </thead>\n",
       "  <tbody>\n",
       "    <tr>\n",
       "      <th>0</th>\n",
       "      <td>-1.737784</td>\n",
       "      <td>0.001388</td>\n",
       "      <td>0</td>\n",
       "    </tr>\n",
       "    <tr>\n",
       "      <th>1</th>\n",
       "      <td>-1.767918</td>\n",
       "      <td>-0.013498</td>\n",
       "      <td>0</td>\n",
       "    </tr>\n",
       "    <tr>\n",
       "      <th>2</th>\n",
       "      <td>-1.804079</td>\n",
       "      <td>-0.035828</td>\n",
       "      <td>0</td>\n",
       "    </tr>\n",
       "    <tr>\n",
       "      <th>3</th>\n",
       "      <td>-1.825172</td>\n",
       "      <td>-0.035828</td>\n",
       "      <td>0</td>\n",
       "    </tr>\n",
       "    <tr>\n",
       "      <th>4</th>\n",
       "      <td>-1.834212</td>\n",
       "      <td>-0.087930</td>\n",
       "      <td>0</td>\n",
       "    </tr>\n",
       "    <tr>\n",
       "      <th>...</th>\n",
       "      <td>...</td>\n",
       "      <td>...</td>\n",
       "      <td>...</td>\n",
       "    </tr>\n",
       "    <tr>\n",
       "      <th>289</th>\n",
       "      <td>1.887390</td>\n",
       "      <td>-1.205104</td>\n",
       "      <td>3</td>\n",
       "    </tr>\n",
       "    <tr>\n",
       "      <th>290</th>\n",
       "      <td>1.920233</td>\n",
       "      <td>-1.197949</td>\n",
       "      <td>3</td>\n",
       "    </tr>\n",
       "    <tr>\n",
       "      <th>291</th>\n",
       "      <td>1.942129</td>\n",
       "      <td>-1.213055</td>\n",
       "      <td>3</td>\n",
       "    </tr>\n",
       "    <tr>\n",
       "      <th>292</th>\n",
       "      <td>1.953721</td>\n",
       "      <td>-1.224981</td>\n",
       "      <td>3</td>\n",
       "    </tr>\n",
       "    <tr>\n",
       "      <th>293</th>\n",
       "      <td>1.964025</td>\n",
       "      <td>-1.236907</td>\n",
       "      <td>3</td>\n",
       "    </tr>\n",
       "  </tbody>\n",
       "</table>\n",
       "<p>294 rows × 3 columns</p>\n",
       "</div>"
      ],
      "text/plain": [
       "     latitude  longitude  rotulos\n",
       "0   -1.737784   0.001388        0\n",
       "1   -1.767918  -0.013498        0\n",
       "2   -1.804079  -0.035828        0\n",
       "3   -1.825172  -0.035828        0\n",
       "4   -1.834212  -0.087930        0\n",
       "..        ...        ...      ...\n",
       "289  1.887390  -1.205104        3\n",
       "290  1.920233  -1.197949        3\n",
       "291  1.942129  -1.213055        3\n",
       "292  1.953721  -1.224981        3\n",
       "293  1.964025  -1.236907        3\n",
       "\n",
       "[294 rows x 3 columns]"
      ]
     },
     "execution_count": 70,
     "metadata": {},
     "output_type": "execute_result"
    }
   ],
   "source": [
    "rotulos_padroes = dbscan_fit.labels_ #Array constituido por -1 significa que ele não conseguiu identificar os klusters\n",
    "rotulos_padroes\n",
    "rotas_p['rotulos'] = rotulos_padroes\n",
    "rotas_p"
   ]
  },
  {
   "cell_type": "code",
   "execution_count": 71,
   "metadata": {},
   "outputs": [
    {
     "data": {
      "text/plain": [
       "<function matplotlib.pyplot.show(close=None, block=None)>"
      ]
     },
     "execution_count": 71,
     "metadata": {},
     "output_type": "execute_result"
    },
    {
     "data": {
      "image/png": "[encoded data removed]",
      "text/plain": [
       "<Figure size 640x480 with 2 Axes>"
      ]
     },
     "metadata": {},
     "output_type": "display_data"
    }
   ],
   "source": [
    "ax = rotas_p.plot(x='latitude',y='longitude'\n",
    "            ,xlabel='Latitude',ylabel='Longitude',\n",
    "            kind='scatter',c='rotulos',cmap='viridis')\n",
    "\n",
    "rotas_negativas = rotas_p[rotas_p['rotulos']==-1]\n",
    "rotas_negativas.plot(\n",
    "    x='latitude',\n",
    "    y='longitude',\n",
    "    kind='scatter',\n",
    "    color='red',\n",
    "    marker='x',\n",
    "    ax=ax,  # Plota no mesmo gráfico\n",
    "    label='c = -1'\n",
    ")\n",
    "\n",
    "plt.show"
   ]
  },
  {
   "cell_type": "markdown",
   "metadata": {},
   "source": [
    "# Novos dados"
   ]
  },
  {
   "cell_type": "code",
   "execution_count": 72,
   "metadata": {},
   "outputs": [],
   "source": [
    "dados_novos = [(-19.725129984827152, -47.95321195366353),\n",
    "(-19.724847204297333, -47.95311539414036),\n",
    "(-19.724665416549634, -47.95294373276583),\n",
    "(-19.724473529258265, -47.95283644440675),\n",
    "(-19.7242917410855, -47.95257895234496),\n",
    "(-19.72412005206577, -47.952396562134524),\n",
    "(-19.72409985334546, -47.95227854493953),\n",
    "(-19.723928164119577, -47.95219271425227),\n",
    "(-19.723756474709248, -47.95219271425227),\n",
    "(-19.723665580240862, -47.952224900759994),\n",
    "(-19.723524188742868, -47.95228927377545),\n",
    "(-19.723392896525567, -47.952396562134524),\n",
    "(-19.7232313059562, -47.95237510446271),\n",
    "(-19.723241405371578, -47.95246093514997),\n",
    "(-19.723261604200406, -47.95260041001678),\n",
    "(-19.72319090828834, -47.95267551186814),\n",
    "(-19.72308991407398, -47.95267551186814),\n",
    "(-19.7229990192265, -47.95278280022721),\n",
    "(-19.7229384226328, -47.95301883461719),\n",
    "(-19.72290812432733, -47.95310466530446),\n",
    "(-19.722837428258895, -47.95321195366353),\n",
    "(-19.72267583712791, -47.953405072709884)]\n",
    "\n",
    "#dados_novos = [(-19.72267583712791, -47.953405072709884)]\n",
    "\n",
    "dados_novos = pd.DataFrame(data=dados_novos,columns=['latitude','longitude'])\n",
    "# dados_novos['rotulos'] = 1"
   ]
  },
  {
   "cell_type": "code",
   "execution_count": 73,
   "metadata": {},
   "outputs": [
    {
     "data": {
      "text/plain": [
       "<Axes: xlabel='latitude', ylabel='longitude'>"
      ]
     },
     "execution_count": 73,
     "metadata": {},
     "output_type": "execute_result"
    },
    {
     "data": {
      "image/png": "[encoded data removed]",
      "text/plain": [
       "<Figure size 640x480 with 1 Axes>"
      ]
     },
     "metadata": {},
     "output_type": "display_data"
    }
   ],
   "source": [
    "dados_novos.plot(x='latitude',y='longitude',kind='scatter')"
   ]
  },
  {
   "cell_type": "code",
   "execution_count": 74,
   "metadata": {},
   "outputs": [],
   "source": [
    "# rotas['rotulos'] = 2\n",
    "# dados_juntos = pd.concat([rotas, dados_novos])"
   ]
  },
  {
   "cell_type": "code",
   "execution_count": 75,
   "metadata": {},
   "outputs": [],
   "source": [
    "# dados_juntos.plot(x='latitude',y='longitude',kind='scatter',c='rotulos',cmap='viridis')"
   ]
  },
  {
   "cell_type": "code",
   "execution_count": 76,
   "metadata": {},
   "outputs": [],
   "source": [
    "# dados_juntos_p = scaler.fit_transform(dados_juntos)\n",
    "# dados_juntos_p = pd.DataFrame(data=dados_juntos_p,columns=['latitude','longitude','rotulos'])\n",
    "# dados_juntos_p.plot(x='latitude',y='longitude',kind='scatter',c='rotulos',cmap='viridis')"
   ]
  },
  {
   "cell_type": "code",
   "execution_count": 77,
   "metadata": {},
   "outputs": [],
   "source": [
    "# dbscan_test = dbscan.fit_predict(dados_juntos_p)\n",
    "# dados_juntos_p['rotulos'] = dbscan_test\n",
    "\n",
    "# ax = dados_juntos_p.plot(x='latitude',y='longitude'\n",
    "#             ,xlabel='Latitude',ylabel='Longitude',\n",
    "#             kind='scatter',c='rotulos',cmap='viridis')\n",
    "\n",
    "# rotas_negativas = dados_juntos_p[dados_juntos_p['rotulos']==-1]\n",
    "# rotas_negativas.plot(\n",
    "#     x='latitude',\n",
    "#     y='longitude',\n",
    "#     kind='scatter',\n",
    "#     color='red',\n",
    "#     marker='x',\n",
    "#     ax=ax,  # Plota no mesmo gráfico\n",
    "#     label='c = -1'\n",
    "# )\n",
    "\n",
    "# plt.show"
   ]
  },
  {
   "cell_type": "markdown",
   "metadata": {},
   "source": [
    "# Pipeline"
   ]
  },
  {
   "cell_type": "code",
   "execution_count": 78,
   "metadata": {},
   "outputs": [],
   "source": [
    "def new_data(df,df_padrão):\n",
    "    #transforma com a base do padrão\n",
    "    df_scaled = scaler.transform(df)\n",
    "    df = pd.DataFrame(data=df_scaled,columns=df.columns,index=df.index)\n",
    "    #Juntar datasets\n",
    "    df_juntos = pd.concat([df_padrão,df])\n",
    "\n",
    "    # Reset index after concatenation\n",
    "    df_juntos.reset_index(drop=True, inplace=True)\n",
    "    \n",
    "    # Find the index of the new data in the concatenated dataframe\n",
    "    new_data_index = df_juntos[df_juntos['rotulos'].isna()].index\n",
    "\n",
    "    #aplicar DBSCAN\n",
    "    df_dbscan = df_juntos[['latitude','longitude']]\n",
    "    new_rotulos = dbscan.fit_predict(df_dbscan)\n",
    "    new_rotulos = pd.DataFrame(data=new_rotulos,columns=['rotulos'],index=df_dbscan.index)\n",
    "    \n",
    "    df['rotulos'] = new_rotulos.loc[new_data_index,'rotulos'].values\n",
    "    \n",
    "    return df"
   ]
  },
  {
   "cell_type": "code",
   "execution_count": 79,
   "metadata": {},
   "outputs": [
    {
     "data": {
      "text/html": [
       "<div>\n",
       "<style scoped>\n",
       "    .dataframe tbody tr th:only-of-type {\n",
       "        vertical-align: middle;\n",
       "    }\n",
       "\n",
       "    .dataframe tbody tr th {\n",
       "        vertical-align: top;\n",
       "    }\n",
       "\n",
       "    .dataframe thead th {\n",
       "        text-align: right;\n",
       "    }\n",
       "</style>\n",
       "<table border=\"1\" class=\"dataframe\">\n",
       "  <thead>\n",
       "    <tr style=\"text-align: right;\">\n",
       "      <th></th>\n",
       "      <th>latitude</th>\n",
       "      <th>longitude</th>\n",
       "      <th>rotulos</th>\n",
       "    </tr>\n",
       "  </thead>\n",
       "  <tbody>\n",
       "    <tr>\n",
       "      <th>0</th>\n",
       "      <td>1.051426</td>\n",
       "      <td>-0.583967</td>\n",
       "      <td>3</td>\n",
       "    </tr>\n",
       "    <tr>\n",
       "      <th>0</th>\n",
       "      <td>1.069456</td>\n",
       "      <td>-0.576812</td>\n",
       "      <td>3</td>\n",
       "    </tr>\n",
       "    <tr>\n",
       "      <th>0</th>\n",
       "      <td>1.081047</td>\n",
       "      <td>-0.564091</td>\n",
       "      <td>3</td>\n",
       "    </tr>\n",
       "    <tr>\n",
       "      <th>0</th>\n",
       "      <td>1.093282</td>\n",
       "      <td>-0.556141</td>\n",
       "      <td>3</td>\n",
       "    </tr>\n",
       "    <tr>\n",
       "      <th>0</th>\n",
       "      <td>1.104873</td>\n",
       "      <td>-0.537059</td>\n",
       "      <td>3</td>\n",
       "    </tr>\n",
       "    <tr>\n",
       "      <th>0</th>\n",
       "      <td>1.115820</td>\n",
       "      <td>-0.523543</td>\n",
       "      <td>3</td>\n",
       "    </tr>\n",
       "    <tr>\n",
       "      <th>0</th>\n",
       "      <td>1.117108</td>\n",
       "      <td>-0.514798</td>\n",
       "      <td>3</td>\n",
       "    </tr>\n",
       "    <tr>\n",
       "      <th>0</th>\n",
       "      <td>1.128055</td>\n",
       "      <td>-0.508437</td>\n",
       "      <td>-1</td>\n",
       "    </tr>\n",
       "    <tr>\n",
       "      <th>0</th>\n",
       "      <td>1.139002</td>\n",
       "      <td>-0.508437</td>\n",
       "      <td>-1</td>\n",
       "    </tr>\n",
       "    <tr>\n",
       "      <th>0</th>\n",
       "      <td>1.144798</td>\n",
       "      <td>-0.510822</td>\n",
       "      <td>-1</td>\n",
       "    </tr>\n",
       "    <tr>\n",
       "      <th>0</th>\n",
       "      <td>1.153813</td>\n",
       "      <td>-0.515593</td>\n",
       "      <td>-1</td>\n",
       "    </tr>\n",
       "    <tr>\n",
       "      <th>0</th>\n",
       "      <td>1.162184</td>\n",
       "      <td>-0.523543</td>\n",
       "      <td>-1</td>\n",
       "    </tr>\n",
       "    <tr>\n",
       "      <th>0</th>\n",
       "      <td>1.172487</td>\n",
       "      <td>-0.521953</td>\n",
       "      <td>-1</td>\n",
       "    </tr>\n",
       "    <tr>\n",
       "      <th>0</th>\n",
       "      <td>1.171843</td>\n",
       "      <td>-0.528314</td>\n",
       "      <td>-1</td>\n",
       "    </tr>\n",
       "    <tr>\n",
       "      <th>0</th>\n",
       "      <td>1.170555</td>\n",
       "      <td>-0.538649</td>\n",
       "      <td>-1</td>\n",
       "    </tr>\n",
       "    <tr>\n",
       "      <th>0</th>\n",
       "      <td>1.175063</td>\n",
       "      <td>-0.544215</td>\n",
       "      <td>-1</td>\n",
       "    </tr>\n",
       "    <tr>\n",
       "      <th>0</th>\n",
       "      <td>1.181502</td>\n",
       "      <td>-0.544215</td>\n",
       "      <td>-1</td>\n",
       "    </tr>\n",
       "    <tr>\n",
       "      <th>0</th>\n",
       "      <td>1.187298</td>\n",
       "      <td>-0.552165</td>\n",
       "      <td>-1</td>\n",
       "    </tr>\n",
       "    <tr>\n",
       "      <th>0</th>\n",
       "      <td>1.191162</td>\n",
       "      <td>-0.569656</td>\n",
       "      <td>-1</td>\n",
       "    </tr>\n",
       "    <tr>\n",
       "      <th>0</th>\n",
       "      <td>1.193093</td>\n",
       "      <td>-0.576017</td>\n",
       "      <td>-1</td>\n",
       "    </tr>\n",
       "    <tr>\n",
       "      <th>0</th>\n",
       "      <td>1.197601</td>\n",
       "      <td>-0.583967</td>\n",
       "      <td>-1</td>\n",
       "    </tr>\n",
       "    <tr>\n",
       "      <th>0</th>\n",
       "      <td>1.207904</td>\n",
       "      <td>-0.598279</td>\n",
       "      <td>-1</td>\n",
       "    </tr>\n",
       "  </tbody>\n",
       "</table>\n",
       "</div>"
      ],
      "text/plain": [
       "   latitude  longitude  rotulos\n",
       "0  1.051426  -0.583967        3\n",
       "0  1.069456  -0.576812        3\n",
       "0  1.081047  -0.564091        3\n",
       "0  1.093282  -0.556141        3\n",
       "0  1.104873  -0.537059        3\n",
       "0  1.115820  -0.523543        3\n",
       "0  1.117108  -0.514798        3\n",
       "0  1.128055  -0.508437       -1\n",
       "0  1.139002  -0.508437       -1\n",
       "0  1.144798  -0.510822       -1\n",
       "0  1.153813  -0.515593       -1\n",
       "0  1.162184  -0.523543       -1\n",
       "0  1.172487  -0.521953       -1\n",
       "0  1.171843  -0.528314       -1\n",
       "0  1.170555  -0.538649       -1\n",
       "0  1.175063  -0.544215       -1\n",
       "0  1.181502  -0.544215       -1\n",
       "0  1.187298  -0.552165       -1\n",
       "0  1.191162  -0.569656       -1\n",
       "0  1.193093  -0.576017       -1\n",
       "0  1.197601  -0.583967       -1\n",
       "0  1.207904  -0.598279       -1"
      ]
     },
     "metadata": {},
     "output_type": "display_data"
    }
   ],
   "source": [
    "new_values = pd.DataFrame()\n",
    "\n",
    "for loc in dados_novos.values:\n",
    "    loc = pd.DataFrame(data=[loc],columns=['latitude','longitude'])\n",
    "    new_df = new_data(loc,rotas_p)\n",
    "    new_values = pd.concat([new_values, new_df])\n",
    "\n",
    "display(new_values)"
   ]
  },
  {
   "cell_type": "code",
   "execution_count": 80,
   "metadata": {},
   "outputs": [
    {
     "data": {
      "text/plain": [
       "<function matplotlib.pyplot.show(close=None, block=None)>"
      ]
     },
     "execution_count": 80,
     "metadata": {},
     "output_type": "execute_result"
    },
    {
     "data": {
      "image/png": "[encoded data removed]",
      "text/plain": [
       "<Figure size 640x480 with 2 Axes>"
      ]
     },
     "metadata": {},
     "output_type": "display_data"
    }
   ],
   "source": [
    "dados_juntos = pd.concat([rotas_p,new_values])\n",
    "\n",
    "ax = dados_juntos.plot(x='latitude',y='longitude'\n",
    "            ,xlabel='Latitude',ylabel='Longitude',\n",
    "            kind='scatter',c='rotulos',cmap='viridis')\n",
    "\n",
    "rotas_negativas = dados_juntos[dados_juntos['rotulos']==-1]\n",
    "rotas_negativas.plot(\n",
    "    x='latitude',\n",
    "    y='longitude',\n",
    "    kind='scatter',\n",
    "    color='red',\n",
    "    marker='x',\n",
    "    ax=ax,  # Plota no mesmo gráfico\n",
    "    label='c = -1'\n",
    ")\n",
    "\n",
    "plt.show"
   ]
  },
  {
   "cell_type": "markdown",
   "metadata": {},
   "source": [
    "# Identificação de outliers com os dados do DBSCAN, utilizando uma arvore de decisão"
   ]
  }
 ],
 "metadata": {
  "kernelspec": {
   "display_name": "spyder-env",
   "language": "python",
   "name": "python3"
  },
  "language_info": {
   "codemirror_mode": {
    "name": "ipython",
    "version": 3
   },
   "file_extension": ".py",
   "mimetype": "text/x-python",
   "name": "python",
   "nbconvert_exporter": "python",
   "pygments_lexer": "ipython3",
   "version": "3.10.13"
  }
 },
 "nbformat": 4,
 "nbformat_minor": 2
}
