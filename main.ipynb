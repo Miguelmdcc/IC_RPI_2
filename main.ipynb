{
 "cells": [
  {
   "cell_type": "markdown",
   "metadata": {},
   "source": [
    "# Iniciação Científica - Rastreador GPS Personalizável Inteligente\n",
    "\n",
    "## Aluno: Miguel Mendes Daia Cicci\n",
    "## Orientador: Frederico Renato Gomes"
   ]
  }
 ],
 "metadata": {
  "language_info": {
   "name": "python"
  }
 },
 "nbformat": 4,
 "nbformat_minor": 2
}
